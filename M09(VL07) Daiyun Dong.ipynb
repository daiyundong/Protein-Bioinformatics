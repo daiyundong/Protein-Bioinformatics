{
 "cells": [
  {
   "cell_type": "markdown",
   "id": "dee5ada0",
   "metadata": {},
   "source": [
    "# M09(VL07) Daiyun Dong"
   ]
  },
  {
   "cell_type": "markdown",
   "id": "a2e9788b",
   "metadata": {},
   "source": [
    "## Process Summary\n",
    "When conducting molecular dynamics simulations with GROMACS, we can use the GROMACS tools to prepare the simulation system. The settings include the solvation of the protein, the addition of ions to balance the system charge, etc, and we can adjust the parameters of the solvent model, box type, box size, and ion concentration, etc.\n",
    "\n",
    "Subsequently, energy minimization is conducted to stabilize the system structure. The minimization algorithm, maximum number of iterations, and energy tolerance, etc., can be customized.\n",
    "\n",
    "Then, the system temperature and pressure are adjusted to target values. The temperature, pressure, coupling time, etc., can be customized.\n",
    "\n",
    "Next, molecular dynamics simulations are performed. The customization in this stage directly affects the simulation results, including simulation time, time step, temperature control method, data collection frequency, etc.\n",
    "\n",
    "Finally, the results can be analyzed with specific tools and methods.\n",
    "\n",
    "\n",
    "Potential of mean force using AWH method：https://tutorials.gromacs.org/awh-tutorial.html \n",
    "\n",
    "Free energy of solvation using AWH method：https://tutorials.gromacs.org/awh-free-energy-of-solvation.html\n"
   ]
  },
  {
   "cell_type": "markdown",
   "id": "baff0c42",
   "metadata": {},
   "source": [
    "## Discussion\n",
    "### What criteria did you use to calculate the potential of mean force (PMF) along a reaction coordinate (RC) using the accelerated weight histogram method (AWH)? What changes (if any) could be made to optimize the evaluation?\n",
    "The potential of mean force (PMF) along a reaction coordinate (RC) is used to describe the energy changes of a system along a specific reaction path. The reaction coordinate, AWH calculation parameters, etc., would affect the result of this computation. 'gmx awh' is used to set the parameter for AWH, allowing adjustments such as the selection of the reaction coordinate, the strategy and frequency of bias potential updates, target sampling density, etc.\n",
    "\n",
    "When evaluating the PMF obtained using the AWH method, the first step is to check if the PMF has converged. Multiple PMF curves can be simulated and then compared. If these curves are similar, it indicates that the PMF results have converged. Through the AWH method, the statistical error of the PMF can be directly estimated from the simulation, which reflects the quality of the simulation. Furthermore, comparing the computed results with experimental results can evaluate the performance of the simulation more directly.\n",
    "\n",
    "\n",
    "### What criteria did you use to apply the accelerated weighted histogram (AWH) method to compute the free energy of solvation? What changes (if any) could be made to optimize the evaluation?\n",
    "The free energy of solvation is the change in free energy when a solute molecule moves from a vacuum into a solvent and couple with the solvent. In calculating the free energy of solvation, it mainly involves placing the target protein in a box composed of water molecules and adding an appropriate amount of ions to simulate physiological conditions.\n",
    "\n",
    "The solvent model, box type and size, ion concentration, etc., would affect the calculation of the free energy of solvation. The simulation box is defined using the 'gmx editconf' command, including the type and size. The 'gmx solvate' command is used for solvent filling, e.g., water. 'gmx grompp' and 'gmx genion' are responsible for adding ions and setting ion concentrations.\n",
    "\n",
    "When using the AWH method to calculate the free energy of solvation, it is possible to verify whether the free energy curve tends to stabilize as the simulation time increases. The AWH method accelerates convergence by improving sampling efficiency. When the estimate of free energy is stable and does not change significantly with the increase in simulation time, it indicates a good simulation state has been reached. Additionally, by analyzing the free energy curves produced by the AWH method, we cab see see if the simulation reflects the true physical processes and transitions between states. Finally, we can compare the computed results with experimental results to evaluate the performance of the simulation"
   ]
  },
  {
   "cell_type": "code",
   "execution_count": null,
   "id": "140ab323",
   "metadata": {},
   "outputs": [],
   "source": []
  }
 ],
 "metadata": {
  "kernelspec": {
   "display_name": "Python 3 (ipykernel)",
   "language": "python",
   "name": "python3"
  },
  "language_info": {
   "codemirror_mode": {
    "name": "ipython",
    "version": 3
   },
   "file_extension": ".py",
   "mimetype": "text/x-python",
   "name": "python",
   "nbconvert_exporter": "python",
   "pygments_lexer": "ipython3",
   "version": "3.11.5"
  }
 },
 "nbformat": 4,
 "nbformat_minor": 5
}
