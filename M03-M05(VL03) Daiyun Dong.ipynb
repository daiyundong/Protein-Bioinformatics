{
 "cells": [
  {
   "cell_type": "markdown",
   "id": "50d7918f",
   "metadata": {},
   "source": [
    "### M03-M05(VL03) Daiyun Dong"
   ]
  },
  {
   "cell_type": "markdown",
   "id": "619581cc",
   "metadata": {},
   "source": [
    "## Neurotransmitter-gated ion-channel transmembrane region"
   ]
  },
  {
   "cell_type": "markdown",
   "id": "11042a25",
   "metadata": {},
   "source": [
    "### Read Files\n",
    "\n",
    "In multiple sequence alignment, the best subsequence match between two or more sequences is performed, and multiple sequence alignments are exported in a single file. \n",
    "\n",
    "If the input sequence alignment format includes a single sequence alignment, the read method needs to be used when reading the data. If the input sequence alignment format includes multiple sequence alignments, then the parse method should be used when reading the data."
   ]
  },
  {
   "cell_type": "code",
   "execution_count": null,
   "id": "ef9327be",
   "metadata": {},
   "outputs": [],
   "source": [
    "from Bio import AlignIO \n",
    "\n",
    "alignment = AlignIO.read(r\"Z:\\Downloads\\Neur_chan_memb_PF02932_alignment_seed.sth.txt\",\"stockholm\")\n",
    "print(alignment)"
   ]
  },
  {
   "cell_type": "markdown",
   "id": "0a70d057",
   "metadata": {},
   "source": [
    "```\n",
    "Alignment with 50 rows and 431 columns\n",
    "LIIPCLLISCLTVLVFYLPSEC-GEKITLCISVLLSLTVFLLLI...GLF ACHA2_RAT/249-502\n",
    "LIIPCLLISCLTVLVFYLPSDC-GEKITLCISVLLSLTVFLLLI...GLF ACHA2_CHICK/247-519\n",
    "LIIPCLLISCLTVLVFYLPSEC-GEKITLCISVLLSLTVFLLLI...GLF ACHA4_CHICK/245-613\n",
    "LIIPCLLISCLTVLVFYLPSEC-GEKVTLCISVLLSLTVFLLLI...GLF ACHA4_RAT/252-622\n",
    "LIIPCLLISFLTILVFYLPSDC-GEKVTLCISVLLSLTVFLLVI...GLF ACHA3_CARAU/240-503\n",
    "MIIPCLLISFLTVLVFYLPSDC-GEKVTLCISVLLSLTVFLLVI...GLF ACHA3_CHICK/239-486\n",
    "VVIPCLLFSFLTGLVFYLPTDS-GEKITLSVSVLLSLVVFLLVI...AIF ACHAA_XENLA/238-446\n",
    "LIIPCLGLSFLTVLVFYLPSDE-GEKLSLSTSVLVSLTVFLLVI...LIF ACHB3_RAT/246-452\n",
    "LIIPCLGLSFLTVLVFYLPSDE-GEKVSLSTSVLVSLTVFLLVI...LIF ACHN2_CARAU/242-446\n",
    "LIIPCVGISYLSVLVFYLPADS-GEKIALCISILLSQTMFFLLI...VIL B4HH26_DROSE/268-544\n",
    "LIVPCVGISYLSVLVFYLPADS-GEKIALCISILLSQTMFFLLI...AIL ACH1_SCHGR/249-526\n",
    "LIVPCVALTFLTVLVFYLPSDS-GEKVTLCISILVSLTVFFLLL...AII B4QT71_DROSI/252-480\n",
    "LIIPCVGISFLSVLVFYLPSDS-GEKISLCISILLSLTVFFLLL...LII ACH1_DROME/247-531\n",
    "LLIPCVLISALALLVFLLPADS-GEKISLGITVLLSLTVFMLLV...GIL ACHA7_CHICK/237-487\n",
    "LLLPSIFLMVVDIVGFCLPPDS-GERVSFKITLLLGYSVFLIIV...TLV 5HT3A_MOUSE/253-478\n",
    "IYTPCIMTVILSQVSFWINKESVPARTVFGITTVLTMTTLSISA...VYW GBRA6_MOUSE/247-437\n",
    "TYIPCIMTVILSQVSFWINKESVPARTVFGITTVLTMTTLSISA...VYW GBRA4_BOVIN/263-539\n",
    "TYIPCILTVVLSWVSFWINKDAVPARTSLGITTVLTMTTLSTIA...VYW GBRG1_RAT/277-459\n",
    "...\n",
    "LIIPCVLITSLAILVFYLPSDC-GEKVTLCMSVLLALTVFLLLI...GLF ACHB2_CARAU/211-439\n",
    "```"
   ]
  },
  {
   "cell_type": "markdown",
   "id": "e5d83db4",
   "metadata": {},
   "source": [
    "### Pairwise Sequence Alignment\n",
    "\n",
    "The globalxx method finds all possible best alignments in a given sequence."
   ]
  },
  {
   "cell_type": "code",
   "execution_count": null,
   "id": "66bf9876",
   "metadata": {},
   "outputs": [],
   "source": [
    "from Bio import pairwise2\n",
    "from Bio import AlignIO\n",
    "from Bio.Seq import Seq \n",
    "from Bio.pairwise2 import format_alignment \n",
    "\n",
    "alignment = list(AlignIO.read(r\"Z:\\Downloads\\Neur_chan_memb_PF02932_alignment_seed.sth.txt\",\"stockholm\"))\n",
    "last_seq = alignment[-1]\n",
    "first_seq = alignment[0]\n",
    "pair_alignments = pairwise2.align.globalxx(last_seq, first_seq)\n",
    "for alignment in pair_alignments: \n",
    "    print(format_alignment(*alignment)) \n"
   ]
  },
  {
   "cell_type": "markdown",
   "id": "c3836ab6",
   "metadata": {},
   "source": [
    "(1/4 of the output results)\n",
    "\n",
    "```\n",
    "ID: ACHB-2_CARAU-/211-439----\n",
    "Name: ACHB-2_CARAU-\n",
    "Description: ACHB-2_CARAU-/211-439----\n",
    "Number of features: 0\n",
    "/accession=P19-370--.1-\n",
    "/start=211--\n",
    "/end=439---\n",
    "Seq('LIIPCVL-ITS-LAI--LVFYLPSD-C-GEKV-TLCM-SVLLA-LTVFLLLISK--IV-P-P-TSL...GLF')\n",
    "|||||||  ||  ||  ||  || ||   ||||||||||  ||  ||  |||||||||||||||||  ||  ||  ||  || ||   ||||||||||||||||||||||||||||||||||||  |    |  |||||||||    ||||||      ||||||||||| | | | |    |||||||  |||||  |||  ||||  ||||||||    |  ||  |||||||||||\n",
    "ID: ACH-A2_--RA-T/2---4-9-502\n",
    "Name: ACH-A2_--RA-T\n",
    "Description: ACH-A2_--RA-T/2---4-9-502\n",
    "Number of features: 0\n",
    "/accession=P1-23--89.-2\n",
    "/start=2--49\n",
    "/end=---502\n",
    "Seq('LIIPC-LLI-SCL--TVLVFYLPS-EC-GEK-ITLC-ISVLL-SLTVFLLLI--TEI-IP--STSL...GLF')\n",
    "  Score=163\n",
    "\n",
    "ID: ACHB2_CARAU-/211-439----\n",
    "Name: ACHB-2_CARAU-\n",
    "Description: ACHB-2_CARAU-/211-439----\n",
    "Number of features: 0\n",
    "/accession=P19-370--.1-\n",
    "/start=211--\n",
    "/end=439---\n",
    "Seq('LIIPCVL-ITS-LAI--LVFYLPSD-C-GEKV-TLCM-SVLLA-LTVFLLLISK--IV-P-P-TSL...GLF')\n",
    "|||||||.||  ||  ||  || ||   ||||||||||  ||  ||  |||||||||||||||||  ||  ||  ||  || ||   ||||||||||||||||||||||||||||||||||||  |    |  |||||||||    ||||||      ||||||||||| | | | |    |||||||  |||||  |||  ||||  ||||||||    |  ||  |||||||||||\n",
    "ID: ACHA2_--RA-T/2---4-9-502\n",
    "Name: ACH-A2_--RA-T\n",
    "Description: ACH-A2_--RA-T/2---4-9-502\n",
    "Number of features: 0\n",
    "/accession=P1-23--89.-2\n",
    "/start=2--49\n",
    "/end=---502\n",
    "Seq('LIIPC-LLI-SCL--TVLVFYLPS-EC-GEK-ITLC-ISVLL-SLTVFLLLI--TEI-IP--STSL...GLF')\n",
    "  Score=163\n",
    "```"
   ]
  },
  {
   "cell_type": "markdown",
   "id": "1573b81b",
   "metadata": {},
   "source": [
    "### Multiple Sequence Alignment\n",
    "\n",
    "Biopython provides interfaces for many sequence alignment tools such as ClustalW, MUSCLE, and EMBOSS through the its modules. \n",
    "Using the obtained Neur_chan_memb alignment seeds, create a sequence alignment using the ClustalW alignment tool. \n",
    "Before performing the alignment, use AlignIO.convert to convert the stockholm format file into a fasta format file for the input of the alignment sequences."
   ]
  },
  {
   "cell_type": "code",
   "execution_count": null,
   "id": "0fad91f0",
   "metadata": {},
   "outputs": [],
   "source": [
    "import os\n",
    "from Bio.Align.Applications import ClustalwCommandline\n",
    "\n",
    "AlignIO.convert(r\"Z:\\Downloads\\Neur_chan_memb_PF02932_alignment_seed.sth.txt\", \"stockholm\", r\"Z:\\Downloads\\Neur_chan_memb_PF02932_alignment_seed.fa\",\"fasta\")\n",
    "\n",
    "clustalw_exe = r\"C:\\Program Files (x86)\\ClustalW2\\clustalw2.exe\"\n",
    "clustalw_cline = ClustalwCommandline(clustalw_exe, infile=r\"Z:\\Downloads\\Neur_chan_memb_PF02932_alignment_seed.fa\")\n",
    "assert os.path.isfile(clustalw_exe), \"Clustal W executable missing\"\n",
    "stdout, stderr = clustalw_cline()"
   ]
  },
  {
   "cell_type": "code",
   "execution_count": null,
   "id": "daecfff1",
   "metadata": {},
   "outputs": [],
   "source": [
    "from Bio import AlignIO\n",
    "aligns = AlignIO.parse(r\"Z:\\Downloads\\Neur_chan_memb_PF02932_alignment_seed.aln\", \"clustal\")\n",
    "for align in aligns:\n",
    "     print(align)"
   ]
  },
  {
   "cell_type": "markdown",
   "id": "bdf086dc",
   "metadata": {},
   "source": [
    "```\n",
    "Alignment with 50 rows and 897 columns\n",
    "LIIPCVGISYLSVLVFYLPADS-GEKIALCISILLSQTMFFLLI...VIL B4HH26_DROSE/268-544\n",
    "LIVPCVGISYLSVLVFYLPADS-GEKIALCISILLSQTMFFLLI...AIL ACH1_SCHGR/249-526\n",
    "LIVPCVALTFLTVLVFYLPSDS-GEKVTLCISILVSLTVFFLLL...AII B4QT71_DROSI/252-480\n",
    "LIIPCVGISFLSVLVFYLPSDS-GEKISLCISILLSLTVFFLLL...LII ACH1_DROME/247-531\n",
    "LIIPCLLISCLTVLVFYLPSEC-GEKITLCISVLLSLTVFLLLI...GLF ACHA2_RAT/249-502\n",
    "LIIPCLLISCLTVLVFYLPSDC-GEKITLCISVLLSLTVFLLLI...GLF ACHA2_CHICK/247-519\n",
    "LIIPCLLISCLTVLVFYLPSEC-GEKITLCISVLLSLTVFLLLI...GLF ACHA4_CHICK/245-613\n",
    "LIIPCLLISCLTVLVFYLPSEC-GEKVTLCISVLLSLTVFLLLI...GLF ACHA4_RAT/252-622\n",
    "LIIPCLGLSFLTVLVFYLPSDE-GEKLSLSTSVLVSLTVFLLVI...LIF ACHB3_RAT/246-452\n",
    "LIIPCLGLSFLTVLVFYLPSDE-GEKVSLSTSVLVSLTVFLLVI...LIF ACHN2_CARAU/242-446\n",
    "LIIPCLLISFLTILVFYLPSDC-GEKVTLCISVLLSLTVFLLVI...GLF ACHA3_CARAU/240-503\n",
    "MIIPCLLISFLTVLVFYLPSDC-GEKVTLCISVLLSLTVFLLVI...GLF ACHA3_CHICK/239-486\n",
    "VVIPCLLFSFLTGLVFYLPTDS-GEKITLSVSVLLSLVVFLLVI...AIF ACHAA_XENLA/238-446\n",
    "LIIPCILITSLAILVFYLPSDC-GEKMTLCISVLLALTVFLLLI...GMF ACHB2_CHICK/234-467\n",
    "LIIPCVLITSLAILVFYLPSDC-GEKVTLCMSVLLALTVFLLLI...GLF ACHB2_CARAU/211-439\n",
    "LIIPCVLITSLAILVFYLPSDC-GEKMTLCISVLLALTVFLLLI...GLF ACHB4_CHICK/219-456\n",
    "LIIPCVLITSLAILVFYLPSDC-GEKMTLCISVLLALTFFLLLI...GLF ACHB4_RAT/238-481\n",
    "LILPTVLISFLCVLVFYLPAEA-GEKVTLGISILLSLVVFLLLV...GIL ACH3_DROME/243-499\n",
    "...\n",
    "LLLPSIFLMVVDIVGFCLPPDS-GERVSFKITLLLGYSVFLIIV...TLV 5HT3A_MOUSE/253-478\n",
    "```"
   ]
  },
  {
   "cell_type": "code",
   "execution_count": null,
   "id": "c043533a",
   "metadata": {},
   "outputs": [],
   "source": [
    "from Bio import Phylo\n",
    "tree = Phylo.read(r\"Z:\\Downloads\\Neur_chan_memb_PF02932_alignment_seed.dnd\", \"newick\")\n",
    "Phylo.draw_ascii(tree)"
   ]
  },
  {
   "cell_type": "markdown",
   "id": "995225b9",
   "metadata": {},
   "source": [
    "```\n",
    "        ______________ ACHA2_RAT/249-502\n",
    "       |\n",
    "      ,|______________ ACHA2_CHICK/247-519\n",
    "      ||\n",
    "     _||______________ ACHA4_CHICK/245-613\n",
    "    | |\n",
    "    | |______________ ACHA4_RAT/252-622\n",
    "    |\n",
    "    |         _________ ACHB3_RAT/246-452\n",
    "   _|________|\n",
    "  | |        |_________ ACHN2_CARAU/242-446\n",
    "  | |\n",
    " ,| |    ______________ ACHA3_CARAU/240-503\n",
    " || |___|\n",
    " ||     |_____________ ACHA3_CHICK/239-486\n",
    " ||\n",
    " ||____________________ ACHAA_XENLA/238-446\n",
    " |\n",
    " |             ___________ B4HH26_DROSE/268-544\n",
    " |  __________|\n",
    " | |          |___________ ACH1_SCHGR/249-526\n",
    " |_|\n",
    " | |  __________________ B4QT71_DROSI/252-480\n",
    " | |_|\n",
    " |   |__________________ ACH1_DROME/247-531\n",
    " |\n",
    " |   _________________________ ACHA7_CHICK/237-487\n",
    " |  |\n",
    " |  |     ______________________________ 5HT3A_MOUSE/253-478\n",
    " |  |    |\n",
    " |  |    |                       _______________ GBRA6_MOUSE/247-437\n",
    " |  |    |                   ___|\n",
    " |  |    |                  |   |_________________ GBRA4_BOVIN/263-539\n",
    " |  |    |              ____|\n",
    " |  |    |             |    |    ______________ GBRA3_BOVIN/282-475\n",
    " | ,|    |             |    |  ,|\n",
    " | ||    |             |    |__||______________ A0A2I3GX20_NOMLE/264-445\n",
    " | ||    |             |       |\n",
    " | ||    |            _|       |_______________ A0A452F9D8_CAPHI/257-439\n",
    " | ||    |           | |\n",
    " | ||    |           | |              __________ GBRG1_RAT/277-459\n",
    " | ||    |           | |          ___|\n",
    " | ||    |           | |        ,|   |_________ GBRG2_BOVIN/279-469\n",
    " | ||    |           | |        ||\n",
    " | ||____|           | |________||_____________ GBRG3_MOUSE/260-461\n",
    " | |     |           |          |\n",
    " | |     |           |          |______________ GBRG4_CHICK/262-451\n",
    " | |     |          ,|\n",
    " | |     |          ||   ______________________ GBRB_LYMST/256-493\n",
    " | |     |          ||  |\n",
    " | |     |          || ,|            ___________ GBRB3_CHICK/250-471\n",
    " | |     |          || ||          ,|\n",
    " | |     |          || ||__________||___________ GBRB1_BOVIN/250-469\n",
    "_| |     |          ||,|           |\n",
    " | |     |          ||||           |____________ GBRB4_CHICK/249-483\n",
    " | |     |         ,||||\n",
    " | |     |         |||||_______________________ G3REP2_GORGO/255-443\n",
    " | |     |         ||||\n",
    " |_|     |         || |_________________________ GBRB_DROME/274-586\n",
    " | |     |         || |\n",
    " | |     |_________|| |________________________ GBRD_MOUSE/254-444\n",
    " | |               ||\n",
    " | |               ||            ____________ GBRR2_HUMAN/268-461\n",
    " | |               ||___________|\n",
    " | |               |            |____________ GBRR1_HUMAN/288-475\n",
    " | |               |\n",
    " | |               |____________________________ GLRB_RAT/273-492\n",
    " | |\n",
    " | |           ________________ ACHD_TETCF/253-494\n",
    " | |          |\n",
    " | |     _____|    ___________ B7ZQ13_XENLA/255-493\n",
    " | |    |     |  ,|\n",
    " | |    |     |__||__________ ACHD_CHICK/252-485\n",
    " | |    |        |\n",
    " | |    |        |___________ ACHD_BOVIN/252-488\n",
    " | |____|\n",
    " | |    |             _________ ACHG_CHICK/249-491\n",
    " | |    |        ____|\n",
    " | |    |      _|    |___________ ACHG_XENLA/242-486\n",
    " | |    |     | |\n",
    " | |    |_____| |________________ ACHG_BOVIN/248-494\n",
    " | |          |\n",
    " | |          |  ________________ ACHE_BOVIN/247-474\n",
    " | |          |_|\n",
    " | |            |_______________ ACHG_TETCF/243-484\n",
    " | |\n",
    " | |       _______________ ACHB_TETCF/248-479\n",
    " | |______|\n",
    " |        |________________ ACHB_BOVIN/253-491\n",
    " |\n",
    " |________________________ ACH3_DROME/243-499\n",
    " |\n",
    " |     ______________ ACHB2_CHICK/234-467\n",
    " |    |\n",
    " |    |______________ ACHB2_CARAU/211-439\n",
    " |____|\n",
    "      |  ___________ ACHB4_CHICK/219-456\n",
    "      |_|\n",
    "        |_____________ ACHB4_RAT/238-481\n",
    "```"
   ]
  },
  {
   "cell_type": "markdown",
   "id": "daba0514",
   "metadata": {},
   "source": [
    "## FTO N-Terminal Domain"
   ]
  },
  {
   "cell_type": "markdown",
   "id": "ed806f56",
   "metadata": {},
   "source": [
    "### Read Files"
   ]
  },
  {
   "cell_type": "code",
   "execution_count": null,
   "id": "3b3ea99a",
   "metadata": {},
   "outputs": [],
   "source": [
    "from Bio import AlignIO \n",
    "\n",
    "alignment = AlignIO.read(r\"Z:\\Downloads\\FTO_NTD_PF12933.alignment.seed\",\"stockholm\")\n",
    "print(alignment)"
   ]
  },
  {
   "cell_type": "markdown",
   "id": "24e6a8f3",
   "metadata": {},
   "source": [
    "```\n",
    "Alignment with 13 rows and 377 columns\n",
    "AEFHQLWRSHYSNLVLREAASIPEDLHRRVQRAFLALRERGCFF...VAE F7D3Y0_ORNAN/34-333\n",
    "RGFQQLWDSSYSGLVLRRSCSLPAELHAQVQAALLTLRKKGCLL...MAE H3D7X0_TETNG/19-307\n",
    "RGYQQLWDSSYSGLALRRSPSLPAGLHARVQAALFTLRRKGCLL...VAE G3PWN9_GASAC/35-312\n",
    "PQFQEIVSKCFAGFHVEAAEAFDAKVHEEARQAFDGLEEGGVFR...VAK D7FUK2_ECTSI/72-371\n",
    "KAFDSCLKTSYTGFRYDSPSALPSTLHGEFESSFDGMDAGDLFL...VAR B8BV54_THAPS/87-362\n",
    "EPFARVHRAHYRGFVVDAPSVLPASLHDDVERAFDDMRSRGEFT...VAV A4S5P8_OSTLU/14-247\n",
    "DEYDACVARSYVGFVVDPPDILPDELHADVAAAFKTMAKRGLFT...VAV C1E7Q2_MICCC/85-330\n",
    "AEYERCMKTSYLGFHVDDPSALPEKTHREIARAFERMASDGIFH...VAV C1MZ05_MICPC/87-334\n",
    "AEFYQLWQENYSKLMLREANRIPDFLHKEVQQAFLTLRKHGCLF...VAE G3W5C6_SARHA/36-322\n",
    "DEFYQQWQLKYPKLILREASSVSEELHKEVQEAFLTMHKHGCLF...VAE FTO_PONAB/36-325\n",
    "AEFQHLWKTHYSKLLFKEANKTPHDLHEQVQSALLALLDHGCFF...VAE H3AGR9_LATCH/23-322\n",
    "ADFHQLWKTKYSKLIFRKSDTVPEELHQMVQESFLTLREHDCFF...VAD U3JZQ2_FICAL/44-342\n",
    "ADFHQLWKTKYSKLVFRKSDTVPEELHQMVQESFLTLRKHDCFF...VAD U3J9P0_ANAPP/34-334\n",
    "```"
   ]
  },
  {
   "cell_type": "markdown",
   "id": "3c9fa0e7",
   "metadata": {},
   "source": [
    "### Pairwise Sequence Alignment"
   ]
  },
  {
   "cell_type": "code",
   "execution_count": null,
   "id": "168539d6",
   "metadata": {},
   "outputs": [],
   "source": [
    "from Bio import pairwise2\n",
    "from Bio import AlignIO\n",
    "from Bio.Seq import Seq \n",
    "from Bio.pairwise2 import format_alignment \n",
    "\n",
    "alignment = list(AlignIO.read(r\"Z:\\Downloads\\FTO_NTD_PF12933.alignment.seed\",\"stockholm\"))\n",
    "last_seq = alignment[-1]\n",
    "first_seq = alignment[0]\n",
    "pair_alignments = pairwise2.align.globalxx(last_seq, first_seq)\n",
    "for alignment in pair_alignments: \n",
    "    print(format_alignment(*alignment)) "
   ]
  },
  {
   "cell_type": "markdown",
   "id": "d459fcee",
   "metadata": {},
   "source": [
    "(part of the result)\n",
    "\n",
    "```\n",
    "ID: -U-3J9P-0_A--NAPP/34-334-\n",
    "Name: U---3J9P-0_A--NAPP-\n",
    "Description: U---3J9P-0_A--NAPP-/34-334-\n",
    "Number of features: 0\n",
    "/accession=U---3J9P-0.2-\n",
    "/start=34\n",
    "/end=334-\n",
    "Seq('AD-FHQLWKTK---YSK-LVF-RK---SDTV-PEE-LHQM--VQES--FLT-LRKHD---CFFQDLVRI---K...VAD-')\n",
    "|||| . |    ||   ||. ||||||  |||||||    |    ||   ||   ||||||||||||||    |    ||   ||   ||||||  ||||||||||||||||||||||||||||||||||    |    ||  ||||||||||||||||||  |||||||  |||||      ||  ||  |    |    | | ||    ||    ||  ||      ||||||||||||||||||  ||\n",
    "ID: F7D3---Y0_-ORNAN-/34-33-3\n",
    "Name: -F7D3---Y0_-ORNA--N\n",
    "Description: -F7D3---Y0_-ORNA--N/34-33-3\n",
    "Number of features: 0\n",
    "/accession=-F7D3---Y0.-3\n",
    "/start=34\n",
    "/end=33-3\n",
    "Seq('A-EFHQLW---RSHYS-NLV-LR-EAAS---IP-EDLH--RRVQ--RAFL-ALR---ERGCFFQDLVRI---K...VA-E')\n",
    "  Score=155\n",
    "\n",
    "ID: --U3J9P-0_A--NAPP/34-334-\n",
    "Name: U---3J9P-0_A--NAPP-\n",
    "Description: U---3J9P-0_A--NAPP-/34-334-\n",
    "Number of features: 0\n",
    "/accession=U---3J9P-0.2-\n",
    "/start=34\n",
    "/end=334-\n",
    "Seq('AD-FHQLWKTK---YSK-LVF-RK---SDTV-PEE-LHQM--VQES--FLT-LRKHD---CFFQDLVRI---K...VAD-')\n",
    "||||  .|    ||   ||. ||||||  |||||||    |    ||   ||   ||||||||||||||    |    ||   ||   ||||||  ||||||||||||||||||||||||||||||||||    |    ||  ||||||||||||||||||  |||||||  |||||      ||  ||  |    |    | | ||    ||    ||  ||      ||||||||||||||||||  ||\n",
    "ID: F7D3---Y0_-ORNAN-/34-33-3\n",
    "Name: -F7D3---Y0_-ORNA--N\n",
    "Description: -F7D3---Y0_-ORNA--N/34-33-3\n",
    "Number of features: 0\n",
    "/accession=-F7D3---Y0.-3\n",
    "/start=34\n",
    "/end=33-3\n",
    "Seq('A-EFHQLW---RSHYS-NLV-LR-EAAS---IP-EDLH--RRVQ--RAFL-ALR---ERGCFFQDLVRI---K...VA-E')\n",
    "  Score=155\n",
    "```"
   ]
  },
  {
   "cell_type": "markdown",
   "id": "ff900e89",
   "metadata": {},
   "source": [
    "### Multiple Sequence Alignment"
   ]
  },
  {
   "cell_type": "code",
   "execution_count": null,
   "id": "7d0a2c1d",
   "metadata": {},
   "outputs": [],
   "source": [
    "import os\n",
    "from Bio.Align.Applications import ClustalwCommandline\n",
    "\n",
    "AlignIO.convert(r\"Z:\\Downloads\\FTO_NTD_PF12933.alignment.seed\", \"stockholm\", r\"Z:\\Downloads\\FTO_NTD_PF12933.alignment.seed.fa\",\"fasta\")\n",
    "\n",
    "clustalw_exe = r\"C:\\Program Files (x86)\\ClustalW2\\clustalw2.exe\"\n",
    "clustalw_cline = ClustalwCommandline(clustalw_exe, infile=r\"Z:\\Downloads\\FTO_NTD_PF12933.alignment.seed.fa\")\n",
    "assert os.path.isfile(clustalw_exe), \"Clustal W executable missing\"\n",
    "stdout, stderr = clustalw_cline()"
   ]
  },
  {
   "cell_type": "code",
   "execution_count": null,
   "id": "06934667",
   "metadata": {},
   "outputs": [],
   "source": [
    "from Bio import AlignIO\n",
    "aligns = AlignIO.parse(r\"Z:\\Downloads\\FTO_NTD_PF12933.alignment.seed.aln\", \"clustal\")\n",
    "for align in aligns:\n",
    "     print(align)"
   ]
  },
  {
   "cell_type": "markdown",
   "id": "37aa1b19",
   "metadata": {},
   "source": [
    "```\n",
    "Alignment with 13 rows and 425 columns\n",
    "RGFQQLWDSSYSGLVLRRSCSLPAELHAQVQAALLTLRKKGCLL...MAE H3D7X0_TETNG/19-307\n",
    "RGYQQLWDSSYSGLALRRSPSLPAGLHARVQAALFTLRRKGCLL...VAE G3PWN9_GASAC/35-312\n",
    "AEFYQLWQENYSKLMLREANRIPDFLHKEVQQAFLTLRKHGCLF...VAE G3W5C6_SARHA/36-322\n",
    "DEFYQQWQLKYPKLILREASSVSEELHKEVQEAFLTMHKHGCLF...VAE FTO_PONAB/36-325\n",
    "ADFHQLWKTKYSKLIFRKSDTVPEELHQMVQESFLTLREHDCFF...VAD U3JZQ2_FICAL/44-342\n",
    "ADFHQLWKTKYSKLVFRKSDTVPEELHQMVQESFLTLRKHDCFF...VAD U3J9P0_ANAPP/34-334\n",
    "AEFHQLWRSHYSNLVLREAASIPEDLHRRVQRAFLALRERGCFF...VAE F7D3Y0_ORNAN/34-333\n",
    "AEFQHLWKTHYSKLLFKEANKTPHDLHEQVQSALLALLDHGCFF...VAE H3AGR9_LATCH/23-322\n",
    "PQFQEIVSKCFAGFHVEAAEAFDAKVHEEARQAFDGLEEGGVFR...VAK D7FUK2_ECTSI/72-371\n",
    "KAFDSCLKTSYTGFRYDSPSALPSTLHGEFESSFDGMDAGDLFL...VAR B8BV54_THAPS/87-362\n",
    "DEYDACVARSYVGFVVDPPDILPDELHADVAAAFKTMAKRGLFT...VAV C1E7Q2_MICCC/85-330\n",
    "AEYERCMKTSYLGFHVDDPSALPEKTHREIARAFERMASDGIFH...VAV C1MZ05_MICPC/87-334\n",
    "EPFARVHRAHYRGFVVDAPSVLPASLHDDVERAFDDMRSRGEFT...VAV A4S5P8_OSTLU/14-247\n",
    "```"
   ]
  },
  {
   "cell_type": "code",
   "execution_count": null,
   "id": "61424f57",
   "metadata": {},
   "outputs": [],
   "source": [
    "from Bio import Phylo\n",
    "tree = Phylo.read(r\"Z:\\Downloads\\FTO_NTD_PF12933.alignment.seed.dnd\", \"newick\")\n",
    "Phylo.draw_ascii(tree)"
   ]
  },
  {
   "cell_type": "markdown",
   "id": "c6b7715d",
   "metadata": {},
   "source": [
    "```\n",
    "   ____________________ F7D3Y0_ORNAN/34-333\n",
    "  |\n",
    " ,|    _____________ G3W5C6_SARHA/36-322\n",
    " || __|\n",
    " |||  |________________ FTO_PONAB/36-325\n",
    " |||\n",
    " | |              _______ U3JZQ2_FICAL/44-342\n",
    " | |_____________|\n",
    " |               |______ U3J9P0_ANAPP/34-334\n",
    " |\n",
    " |                   ___________________ H3D7X0_TETNG/19-307\n",
    " |      ____________|\n",
    " |     |            |______________ G3PWN9_GASAC/35-312\n",
    "_|     |\n",
    " |_____|               __________________________________ D7FUK2_ECTSI/72-371\n",
    " |     |            __|\n",
    " |     |           |  |________________________________ B8BV54_THAPS/87-362\n",
    " |     |___________|\n",
    " |                 | ____________________________ A4S5P8_OSTLU/14-247\n",
    " |                 ||\n",
    " |                  |          _________________ C1E7Q2_MICCC/85-330\n",
    " |                  |_________|\n",
    " |                            |___________________ C1MZ05_MICPC/87-334\n",
    " |\n",
    " |_____________________ H3AGR9_LATCH/23-322\n",
    " ```"
   ]
  },
  {
   "cell_type": "markdown",
   "id": "a65982a4",
   "metadata": {},
   "source": [
    "## Analysis"
   ]
  },
  {
   "cell_type": "markdown",
   "id": "dcc4476b",
   "metadata": {},
   "source": [
    "### What were the major similarities between the Pairwise Sequence Alignment and Multiple Sequence Alignment? What were the major differences?\n",
    "\n",
    "\n",
    "Pairwise sequence alignment involves arranging two biological sequences (such as DNA, RNA, or protein sequences) to identify similarities or homology between them. This process can be accomplished through global alignment (such as the Needleman-Wunsch algorithm) or local alignment (such as the Smith-Waterman algorithm). Global alignment aims to align the entire length of two sequences to find their best overall alignment; whereas local alignment aims to find the most similar segments within two sequences. Key applications of pairwise sequence alignment include determining the homology between two sequences, identifying functional domains, and revealing evolutionary relationships. It is particularly useful for small-scale sequence analysis when researchers are focused on direct comparisons between specific genes or proteins.\n",
    "\n",
    "Multiple sequence alignment extends the concept of pairwise alignment by aligning three or more sequences simultaneously. This type of alignment aims to arrange sequences in such a way as to maximize the similarity of characters within columns, revealing common evolutionary patterns and functionally conserved regions among the sequences. Multiple sequence alignment is especially important for understanding the evolution of protein families, identifying conserved functional sites, and constructing phylogenetic trees. Its algorithms are generally much more complex as they need to solve a greater number of alignment choices and combinatorial problems. These algorithms can be divided into progressive methods (such as ClustalW) and iterative methods (such as T-Coffee and MAFFT), which seek a balance between accuracy and computational efficiency.\n",
    "\n",
    "Similarities: First, both aim to reveal similarities and homology between sequences by aligning them. Second, both can be used to understand the function and evolution of sequences. Third, both use similar basic methodologies, including scoring systems, penalties, and optimizing alignments to maximize similarity.\n",
    "\n",
    "Differences: First, pairwise sequence alignment involves only two sequences, while multiple sequence alignment involves three or more sequences. Second, multiple sequence alignment is computationally more complex than pairwise alignment, because it has to deal with more sequences and potential alignment combinations. Third, pairwise alignment is suitable for direct comparisons between two sequences, while multiple alignment is more suitable for studying the overall similarities and evolutionary relationships within a group of sequences. Finally, the specific algorithms and tools for implementing pairwise and multiple sequences alignment are different."
   ]
  },
  {
   "cell_type": "markdown",
   "id": "4bba3e75",
   "metadata": {},
   "source": [
    "### What are the core assumptions defining the approach used in each of the BioPython-based tools (e.g. ClustalW, MUSCLE, EMBOSS)?\n",
    "\n",
    "BioPython provides a broad application programming interface and tools for handling biological data, including support for various sequence alignment tools (ClustalW, MUSCLE, and EMBOSS).\n",
    "\n",
    "The Bio.Align.Applications module in BioPython provides an interface for ClustalW. ClustalW first performs pairwise sequence alignments on all sequences, then uses the similarities to construct a distance matrix, from which it builds a binary evolutionary tree using the NJ or UPGMA method. This tree reflects the evolutionary relationships between the sequences and guides the subsequent multiple sequence alignment process. Based on the structure of the guide tree, starting with the most similar pairs of sequences, sequences or groups of sequences are progressively merged and aligned.\n",
    "\n",
    "The Bio.Align.Applications module in BioPython also provides an interface for MUSCLE. MUSCLE is superior to ClustalW in terms of speed and accuracy. Instead of performing pairwise sequence alignments like ClustalW, MUSCLE characterizes the similarity between sequences by the number of shared words between them. Additionally, MUSCLE uses UPGMA instead of NJ to construct a guide tree, which is then used for multiple sequence alignment.\n",
    "\n",
    "The Bio.Emboss.Applications module in BioPython provides an interface for EMBOSS. EMBOSS is a suite of various bioinformatics tools rather than a single algorithm principle. It includes a selection of sequence alignment algorithms, such as the Needleman-Wunsch and Smith-Waterman algorithms.\n",
    "\n",
    "All three tools are based on computing the similarity between pairs of sequences and then constructing a multiple sequence alignment based on this set of similarity data to analyze the evolutionary relationships between the sequences. This is because, during the course of evolution, DNA may undergo changes such as base substitutions, insertions, and deletions, resulting in DNA sequences of different species having both similarities and differences. Through sequence alignment, specific algorithms are used to find the arrangement of spaces and sequence arrangements that produce the maximum similarity score between two or more sequences. This can reveal conserved and non-conserved regions within sequences and analyze evolutionary trends."
   ]
  },
  {
   "cell_type": "markdown",
   "id": "456bdc92",
   "metadata": {},
   "source": [
    "### Based on the alignment results, what conclusions could you potentially make regarding the evolution of the Neurotransmitter-gated ion-channel transmembrane region? Specifically, think about the fact that this is a transmembrane region.\n",
    "\n",
    "Upon analyzing 50 sequences of the transmembrane regions of neurotransmitter-gated ion channels, it was found that there is a high level of conservation at both ends of the sequences, while the internal conservation is lower. Areas of high conservation indicate that the corresponding amino acid sequences have undergone little change during the evolution of this protein family. Given that the transmembrane regions of neurotransmitter-gated ion channels have transmembrane alpha helices, it is speculated that the conserved regions partially correspond to the transmembrane alpha helices. \n",
    "\n",
    "Considering that transmembrane helices not only provide structural support, but are also involved in forming the key parts of ion-selective filtration and channel gating mechanisms, any changes may affect the channel's selectivity for specific ions and its ability to respond to neurotransmitters. To maintain these important functional characteristics, the corresponding amino acid sequences are highly conserved across different species.\n",
    "\n",
    "| <img src=\"https://p.ipic.vip/tm705y.png\" width=\"400\" height=\"auto\" align=\"middle\" /> |  <img src=\"https://p.ipic.vip/onjetk.png\" width=\"400\" height=\"auto\" align=\"middle\" />  |  <img src=\"https://p.ipic.vip/aztgsw.png\" width=\"400\" height=\"auto\" align=\"middle\" />   |\n",
    "| :----: | :----: | :----: |\n",
    "|Partial N-terminal comparison result|Partial internal comparison result|Partial C-terminal comparison result|"
   ]
  },
  {
   "cell_type": "markdown",
   "id": "8306d73d",
   "metadata": {},
   "source": [
    "### If you were beginning to build a putative molecular structure of this transmembrane region using your alignment results, which protein IDs would you use as the basis of building your model? Why? Be sure to highlight specific regions of the alignment, structural elements, or functional features that may support your claim.\n",
    "\n",
    "Upon examining the evolutionary tree constructed from the results of multiple sequence alignment, the branching point of ACH3_DROME/243-499 is connected to the main trunk and appears to be closest to the base of the tree. Therefore, we can infer that the sequence of ACH3_DROME/243-499 may be the most closely related on average to the other sequences and shares the most recent common ancestor with all other sequences or sequence groups. The sequence belongs to the amino acid positions 243-499 of the protein Acetylcholine receptor subunit beta-like 1 (P04755).\n",
    "\n",
    "Comparing the results of the multiple sequence alignment, the regions 243-351aa and 457-499aa of this protein sequence show a higher similarity to other sequences. Viewing this protein sequence on NCBI, it is found that the two conserved regions cover four alpha-helical transmembrane regions of the protein, thereby confirming that the areas of high conservation in the multiple sequence alignment correspond to the four transmembrane alpha-helical structures.\n",
    "\n",
    "<img src=\"https://p.ipic.vip/uv3mxf.png\" width=\"500\" height=\"auto\" align=\"middle\" />\n",
    "\n"
   ]
  }
 ],
 "metadata": {
  "kernelspec": {
   "display_name": "Python 3 (ipykernel)",
   "language": "python",
   "name": "python3"
  },
  "language_info": {
   "codemirror_mode": {
    "name": "ipython",
    "version": 3
   },
   "file_extension": ".py",
   "mimetype": "text/x-python",
   "name": "python",
   "nbconvert_exporter": "python",
   "pygments_lexer": "ipython3",
   "version": "3.11.5"
  }
 },
 "nbformat": 4,
 "nbformat_minor": 5
}
