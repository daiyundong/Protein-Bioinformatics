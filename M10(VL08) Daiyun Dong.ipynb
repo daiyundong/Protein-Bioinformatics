{
 "cells": [
  {
   "cell_type": "markdown",
   "id": "f70d155d",
   "metadata": {},
   "source": [
    "# M10(VL08) Daiyun Dong"
   ]
  },
  {
   "cell_type": "markdown",
   "id": "8ac91919",
   "metadata": {},
   "source": [
    "## Search for protein\n",
    "Use BioPlex Explorer to search for FTO protein, and the BioPlex 3.0 and combined interaction matrices are shown as follows:\n",
    "\n",
    "<img src=\"https://p.ipic.vip/r8nfqz.png\" width=\"500\" height=\"auto\" align=\"middle\" /> \n",
    "<img src=\"https://p.ipic.vip/l8e8nk.png\" width=\"500\" height=\"auto\" align=\"middle\" /> \n",
    "\n",
    "The interaction table is shown below:\n"
   ]
  },
  {
   "cell_type": "code",
   "execution_count": 1,
   "id": "fdb5c3ba",
   "metadata": {},
   "outputs": [
    {
     "data": {
      "text/markdown": [
       "| A-B          |     A |      B | A.1       | B.1       | A.2   | B.2      | Networks                    | Wrong   | pNI            | pInt           |\n",
       "|:-------------|------:|-------:|:----------|:----------|:------|:---------|:----------------------------|:--------|:---------------|:---------------|\n",
       "| 54331-79068  | 79068 |  54331 | Gene Link | Gene Link | FTO   | GNG2     | BioPlex_3_0, BioPlexHCT_1_0 | 0, 0    | 0.0012, 0.0004 | 0.9988, 0.9996 |\n",
       "| 494197-79068 | 79068 | 494197 | Gene Link | Gene Link | FTO   | SPANXN5  | BioPlex_3_0                 | 0       | 0.0035         | 0.9965         |\n",
       "| 441525-79068 | 79068 | 441525 | Gene Link | Gene Link | FTO   | SPANXN4  | BioPlex_3_0                 | 0       | 0.0055         | 0.9945         |\n",
       "| 55644-79068  | 79068 |  55644 | Gene Link | Gene Link | FTO   | OSGEP    | BioPlexHCT_1_0              | 0.0012  | 0.02           | 0.9788         |\n",
       "| 2882-79068   | 79068 |   2882 | Gene Link | Gene Link | FTO   | GPX7     | BioPlex_3_0                 | 0       | 0.0391         | 0.9609         |\n",
       "| 9607-79068   | 79068 |   9607 | Gene Link | Gene Link | FTO   | CARTPT   | BioPlex_3_0                 | 0       | 0.0509         | 0.9491         |\n",
       "| 55602-79068  | 79068 |  55602 | Gene Link | Gene Link | FTO   | CDKN2AIP | BioPlex_3_0                 | 0       | 0.0758         | 0.9242         |\n",
       "| 2244-79068   | 79068 |   2244 | Gene Link | Gene Link | FTO   | FGB      | BioPlex_3_0                 | 0       | 0.076          | 0.924          |\n",
       "| 130540-79068 | 79068 | 130540 | Gene Link | Gene Link | FTO   | FLACC1   | BioPlexHCT_1_0              | 0.0023  | 0.0812         | 0.9164         |\n",
       "| 27297-79068  | 79068 |  27297 | Gene Link | Gene Link | FTO   | CRCP     | BioPlexHCT_1_0              | 0.0023  | 0.0891         | 0.9087         |\n",
       "| 7775-79068   | 79068 |   7775 | Gene Link | Gene Link | FTO   | ZNF232   | BioPlex_3_0                 | 0       | 0.0931         | 0.9069         |\n",
       "| 200734-79068 | 79068 | 200734 | Gene Link | Gene Link | FTO   | SPRED2   | BioPlexHCT_1_0              | 0.0024  | 0.1064         | 0.8911         |\n",
       "| 64393-79068  | 79068 |  64393 | Gene Link | Gene Link | FTO   | ZMAT3    | BioPlex_3_0                 | 0       | 0.1122         | 0.8878         |\n",
       "| 9781-79068   | 79068 |   9781 | Gene Link | Gene Link | FTO   | RNF144A  | BioPlexHCT_1_0              | 0.0008  | 0.1164         | 0.8828         |\n",
       "| 27315-79068  | 79068 |  27315 | Gene Link | Gene Link | FTO   | PGAP2    | BioPlexHCT_1_0              | 0.0041  | 0.119          | 0.8768         |\n",
       "| 148223-79068 | 79068 | 148223 | Gene Link | Gene Link | FTO   | C19orf25 | BioPlex_3_0                 | 0       | 0.1438         | 0.8562         |\n",
       "| 6518-79068   | 79068 |   6518 | Gene Link | Gene Link | FTO   | SLC2A5   | BioPlexHCT_1_0              | 0.003   | 0.1414         | 0.8556         |\n",
       "| 64110-79068  | 79068 |  64110 | Gene Link | Gene Link | FTO   | MAGEF1   | BioPlexHCT_1_0              | 0.003   | 0.1414         | 0.8556         |\n",
       "| 54101-79068  | 79068 |  54101 | Gene Link | Gene Link | FTO   | RIPK4    | BioPlexHCT_1_0              | 0.002   | 0.1446         | 0.8534         |\n",
       "| 57089-79068  | 79068 |  57089 | Gene Link | Gene Link | FTO   | ENTPD7   | BioPlexHCT_1_0              | 0.002   | 0.1446         | 0.8534         |\n",
       "| 136319-79068 | 79068 | 136319 | Gene Link | Gene Link | FTO   | MTPN     | BioPlex_3_0                 | 0       | 0.1498         | 0.8502         |\n",
       "| 9-79068      | 79068 |      9 | Gene Link | Gene Link | FTO   | NAT1     | BioPlexHCT_1_0              | 0       | 0.1563         | 0.8437         |\n",
       "| 94235-79068  | 79068 |  94235 | Gene Link | Gene Link | FTO   | GNG8     | BioPlex_3_0                 | 0       | 0.1683         | 0.8317         |\n",
       "| 257-79068    | 79068 |    257 | Gene Link | Gene Link | FTO   | ALX3     | BioPlex_3_0                 | 0       | 0.1696         | 0.8303         |\n",
       "| 79187-79068  | 79068 |  79187 | Gene Link | Gene Link | FTO   | FSD1     | BioPlex_3_0                 | 0       | 0.1798         | 0.8202         |\n",
       "| 4800-79068   | 79068 |   4800 | Gene Link | Gene Link | FTO   | NFYA     | BioPlex_3_0                 | 0       | 0.1944         | 0.8056         |\n",
       "| 338674-79068 | 79068 | 338674 | Gene Link | Gene Link | FTO   | OR5F1    | BioPlex_3_0                 | 0       | 0.1944         | 0.8056         |\n",
       "| 127253-79068 | 79068 | 127253 | Gene Link | Gene Link | FTO   | TYW3     | BioPlex_3_0                 | 0       | 0.2023         | 0.7977         |\n",
       "| 6382-79068   | 79068 |   6382 | Gene Link | Gene Link | FTO   | SDC1     | BioPlex_3_0                 | 0       | 0.2043         | 0.7957         |\n",
       "| 54769-79068  | 79068 |  54769 | Gene Link | Gene Link | FTO   | DIRAS2   | BioPlex_3_0                 | 0       | 0.2047         | 0.7953         |\n",
       "| 3222-79068   | 79068 |   3222 | Gene Link | Gene Link | FTO   | HOXC5    | BioPlex_3_0                 | 0.0054  | 0.2198         | 0.7747         |\n",
       "| 23089-79068  | 79068 |  23089 | Gene Link | Gene Link | FTO   | PEG10    | BioPlexHCT_1_0              | 0       | 0.3215         | 0.6785         |\n",
       "| 27166-79068  | 79068 |  27166 | Gene Link | Gene Link | FTO   | PRELID1  | BioPlexHCT_1_0              | 0.0029  | 0.322          | 0.6752         |"
      ],
      "text/plain": [
       "<IPython.core.display.Markdown object>"
      ]
     },
     "execution_count": 1,
     "metadata": {},
     "output_type": "execute_result"
    }
   ],
   "source": [
    "import pandas as pd\n",
    "from IPython.display import Markdown\n",
    "\n",
    "df = pd.read_csv('./FTO_Node-Table.csv')\n",
    "markdown_str = df.to_markdown(index=False)\n",
    "Markdown(markdown_str)\n"
   ]
  },
  {
   "cell_type": "markdown",
   "id": "a66b0787",
   "metadata": {},
   "source": [
    "## Six interactions\n",
    "\n",
    "FTO (Fat mass and obesity-associated protein) is a demethylase found in humans and other mammals. It is primarily located in the nucleus, where it participates in the demethylation of RNA, playing roles in gene expression regulation, energy balance, and metabolic processes.\n",
    "\n",
    "Based on pInt, six interactions are chosen. \n",
    "\n",
    "### pInt > 0.9\n",
    "1) FTO and SPANXN5 (plnt = 0.9965)\n",
    "\n",
    "SPANXN5 (Sperm Protein Associated with the Nucleus) is a member of the SPANX family, and is primarily expressed during spermatogenesis. It plays a role in the formation of the sperm nucleus, chromatin condensation, and the process of sperm egg fusion. Thus, FTO and SPANXN5 do not show significant functional similarity.\n",
    "\n",
    "Since SPANXN5 is involved in chromatin and nuclear morphology regulation, it may be located in the nucleus. However, SPANXN5's functions are focused on germ cells, so there might be some overlap in subcellular localization with FTO, but not completely.\n",
    "\n",
    "\n",
    "2) FTO and OSGEP (plnt = 0.9788)\n",
    "\n",
    "OSGEP (O-sialoglycoprotein endopeptidase) is an enzyme involved in tRNA modification. It participates in the formation of t(6)A modifications, which are crucial for cell growth and survival. Since FTO is also involved in RNA modification, FTO and OSGEP share similar functions in RNA-related modification processes.\n",
    "\n",
    "FTO and OSGEP can both be found in the nucleus, participating in the processing or modification of ribonucleic acid, and their subcellular localizations are similar.\n",
    "\n",
    "\n",
    "### 0.75 < pInt > 0.9\n",
    "1) FTO and PGAP2 (plnt = 0.8768)\n",
    "\n",
    "PGAP2 (Post-GPI Attachment to Proteins 2) is responsible for the late modification of GPI anchor proteins, regulating the maturation and function of GPI-anchor proteins. Therefore, FTO and PGAP2 do not show functional similarity.\n",
    "\n",
    "Since PGAP2 is mainly located in the endoplasmic reticulum and Golgi apparatus, it has a difference in subcellular localization from FTO.\n",
    "\n",
    "\n",
    "2) FTO and GNG8 (plnt = 0.8317)\n",
    "\n",
    "GNG8 (G Protein Gamma 8) is part of the G protein-coupled receptor signaling system, and is involved in various cellular signaling pathways. Therefore, FTO and GNG8 do not show functional similarity.\n",
    "\n",
    "GNG8 is primarily on the cell membrane, indicating a difference in subcellular localization from FTO.\n",
    "\n",
    "\n",
    "### pInt < 0.75\n",
    "1) FTO and PEG10 (plnt = 0.6785)\n",
    "\n",
    "PEG10 (Paternally Expressed Gene 10) is a paternally expressed gene related to cell cycle regulation and apoptosis inhibition. Thus, its function greatly differs from FTO.\n",
    "\n",
    "PEG10 is expressed in both the cytoplasm and nucleus, and there is some overlap in its subcellular localization with FTO.\n",
    "\n",
    "\n",
    "2) FTO and PRELID1 (plnt = 0.6752)\n",
    "\n",
    "PRELID1 (PRELI Domain Containing 1) is a mitochondrial lipid transport protein, and is involved in regulating the phospholipid composition of the mitochondrial membrane. Thus, its function differs from FTO.\n",
    "PRELID1 is mainly located in the mitochondria, indicating a clear difference in subcellular localization from FTO.\n",
    "\n",
    "\n",
    "\n",
    "From the observations above, we know that as the pInt decreases, the similarity between the two proteins also decreases.\n"
   ]
  },
  {
   "cell_type": "markdown",
   "id": "a2f7d674",
   "metadata": {},
   "source": [
    "## First neighbor interactions\n",
    "\n",
    "We usually focus on direct interactions between proteins, i.e., two proteins forming a complex through direct physical contact, which is considered \"primary neighbor interactions\".\n",
    "\n",
    "\"Secondary neighbor interactions\", on the other hand, are indirect. It means that the two proteins do not come into direct contact but interact indirectly through one or more intermediary proteins.\n",
    "\n",
    "The first interactions and secondary interactions are shown below:\n",
    "<img src=\"https://p.ipic.vip/o9e6kf.png\" width=\"auto\" height=\"100\" align=\"middle\" /> \n",
    "<img src=\"https://p.ipic.vip/hn9w5x.png\" width=\"auto\" height=\"200\" align=\"middle\" /> \n"
   ]
  },
  {
   "cell_type": "markdown",
   "id": "d96b7733",
   "metadata": {},
   "source": [
    "## PFam domains \n",
    "There are two PFam domains associated with FTO: FTO C-terminal domain(FTO_CTD) and FTO catalytic domain(FTO_NTD).\n",
    "\n",
    "The FTO_NTD is the catalytic core of the FTO protein, located at its N-terminus. It contains the key amino acid residues necessary for the protein's demethylase activity, responsible for catalyzing demethylation reactions. \n",
    "\n",
    "On the other hand, FTO_CTD is situated at the C-terminus of the FTO protein. Its specific functions are not as well-defined as those of the catalytic domain, but it is believed to play roles in protein stability, affecting the activity of the catalytic domain, subcellular localization, and potential protein-protein interactions."
   ]
  },
  {
   "cell_type": "markdown",
   "id": "2ff9e24f",
   "metadata": {},
   "source": [
    "##  BioPlex Domains page\n",
    "There are no records about FTO domain. This is because the BioPlex database is not very comprehensive, and the information recorded about FTO is incomplete."
   ]
  },
  {
   "cell_type": "markdown",
   "id": "e3f8ecce",
   "metadata": {},
   "source": []
  },
  {
   "cell_type": "markdown",
   "id": "cbf8a477",
   "metadata": {},
   "source": []
  }
 ],
 "metadata": {
  "kernelspec": {
   "display_name": "Python 3 (ipykernel)",
   "language": "python",
   "name": "python3"
  },
  "language_info": {
   "codemirror_mode": {
    "name": "ipython",
    "version": 3
   },
   "file_extension": ".py",
   "mimetype": "text/x-python",
   "name": "python",
   "nbconvert_exporter": "python",
   "pygments_lexer": "ipython3",
   "version": "3.11.5"
  }
 },
 "nbformat": 4,
 "nbformat_minor": 5
}
