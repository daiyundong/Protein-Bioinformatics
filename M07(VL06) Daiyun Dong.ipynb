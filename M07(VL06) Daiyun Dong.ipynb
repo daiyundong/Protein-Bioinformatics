{
 "cells": [
  {
   "cell_type": "markdown",
   "id": "ff440af0",
   "metadata": {},
   "source": [
    "# M07(VL06) Daiyun Dong"
   ]
  },
  {
   "cell_type": "code",
   "execution_count": null,
   "id": "1f52d85b",
   "metadata": {},
   "outputs": [],
   "source": [
    "import os\n",
    "import sys\n",
    "import pandas as pd\n",
    "import numpy as np\n",
    "import requests\n",
    "from pprint import pprint\n",
    "\n",
    "from sklearn.neural_network import MLPRegressor\n",
    "from sklearn.model_selection import train_test_split, KFold, \\\n",
    "    GroupKFold\n",
    "from scipy.stats import pearsonr, mode\n",
    "import matplotlib.pyplot as plt\n",
    "import seaborn as sns\n",
    "\n",
    "# Import data from protein sequence embedding repository.\n",
    "sys.path.append(\"/Users/dongdaiyun/Documents/Python/ProteinBioinfo/protein-sequence-embedding-iclr2019\")\n",
    "from src.alphabets import Uniprot21\n",
    "from torch.nn.utils.rnn import PackedSequence\n",
    "from src.utils import pack_sequences, unpack_sequences\n",
    "\n",
    "import torch\n",
    "%matplotlib inline\n"
   ]
  },
  {
   "cell_type": "code",
   "execution_count": null,
   "id": "213ad949",
   "metadata": {},
   "outputs": [],
   "source": [
    "# Load stability data\n",
    "# Update this path based upon where you downloaded data.csv\n",
    "\n",
    "stability_data = pd.read_csv(\"/Users/dongdaiyun/Documents/Python/ProteinBioinfo/pythonProject/data.csv\")\n",
    "stability_data.head()"
   ]
  },
  {
   "cell_type": "code",
   "execution_count": null,
   "id": "9a9437a0",
   "metadata": {},
   "outputs": [],
   "source": [
    "def mutate_sequence(row): \n",
    "    if not np.isnan(row.position):\n",
    "        pos = int(row.position) - 1\n",
    "        assert pos < len(row.sequence)\n",
    "        new_sequence = list(row.sequence)\n",
    "        new_sequence[pos] = row.mutation\n",
    "        new_sequence = \"\".join(new_sequence)\n",
    "        if row.sequence[pos] == row.wild_type:\n",
    "            return new_sequence\n",
    "        else:\n",
    "            return row.sequence\n",
    "stability_data.loc[:, \"sequence_mut\"] = stability_data.apply(mutate_sequence, axis=1)"
   ]
  },
  {
   "cell_type": "code",
   "execution_count": null,
   "id": "098a344e",
   "metadata": {},
   "outputs": [],
   "source": [
    "# Add simple features\n",
    "stability_data.head()\n",
    "stability_data = stability_data[~stability_data['protein_name'].isnull()]\n",
    "stability_data = stability_data[~stability_data['ddG'].isnull()]\n",
    "prediction_cols = ['pdb_id', 'wild_type', 'mutation']\n",
    "\n",
    "# Convert categorical variables into simple One-hot encoding\n",
    "X = pd.get_dummies(stability_data.loc[:, prediction_cols])\n",
    "\n",
    "# ddG or ΔΔG is the target variable in this case\n",
    "y = stability_data.ddG\n",
    "predictions, truths = [], []\n",
    "groups = stability_data.protein_name\n",
    "\n",
    "for seed in [0, 1, 2]:\n",
    "    for train_index, test_index in GroupKFold(7).split(X, y, groups):\n",
    "        X_train, X_test, y_train, y_test = X.iloc[train_index], X.iloc[test_index], y.iloc[train_index], y.iloc[test_index]\n",
    "        reg = MLPRegressor(50, random_state=seed, max_iter=2000)\n",
    "        reg.fit(X_train, y_train)\n",
    "        predictions += reg.predict(X_test).tolist()\n",
    "        truths += y_test.tolist()\n",
    "\n",
    "print(\"Test correlation: \", pearsonr(truths, predictions)[0])"
   ]
  },
  {
   "cell_type": "markdown",
   "id": "43e6e812",
   "metadata": {},
   "source": [
    "The output:\n",
    "Test correlation:  0.1204051159467796"
   ]
  },
  {
   "cell_type": "markdown",
   "id": "260d3db9",
   "metadata": {},
   "source": [
    "## Discussion\n",
    "### What criteria did you use to evaluate the performance of the model? What changes (if any) could be made to optimize the evaluation?\n",
    "\n",
    "The performance of the model was evaluated using the Pearson correlation coefficient, which measures the linear correlation between the model-predicted ΔΔG values and the experimentally determined ΔΔG values. The range of the Pearson correlation coefficient is from -1 to 1, with its absolute value closer to 1 indicating stronger predictive capability of the model and higher consistency between the predicted results and actual situations.\n",
    "\n",
    "Additionally, the Mean Squared Error (MSE) could also be used to assess the consistency between the model's predictions and actual situations. The MSE calculates the average of the squares of the differences between the model's predictions and the actual values. A smaller MSE indicates higher accuracy of the model's predictions.\n",
    "\n",
    "\n",
    "\n",
    "\n",
    "\n",
    "### How do you interpret the Pearson correlation scores that you generated? What conclusions about the structure and function of your generated mutants can you make based on this analysis?\n",
    "\n",
    "The obtained Pearson correlation coefficient of 0.1204, whose absolute value is not zero but relatively small, indicates a very slight positive linear relationship between the predicted ΔΔG values and the actual ΔΔG values. This suggests that the model built with our input data is of poor quality, with low accuracy in predicting the thermal stability of protein variants.\n",
    "\n",
    "In this model, three features (secondary structure, wild-type amino acid, and mutation type) were used as independent variables to input into the model, with the thermal stability change (ΔΔG) of the protein variants as the dependent variable that the model aims to predict. Given the low accuracy indicated by the Pearson correlation coefficient, it suggests that the mutations might not typically impact the overall structure and function of the proteins, occurring in non-critical areas of the proteins, which leads to the training being unable to predict changes in thermal stability accurately.\n",
    "\n",
    "\n",
    "\n",
    "\n",
    "### What are the steps used for thermal stability predictions using this approach? Are there any assumptions that limit the broad applicability of the approach?\n",
    "\n",
    "The process begins with preparing protein sequence and structure data, followed by generating mutant sequences. Then, features for training the model are extracted, the variables to be predicted are defined, and the model is trained and predicted using machine learning. Finally, the model's performance is assessed using statistical methods.\n",
    "\n",
    "The model may assume that the same mutation on the same secondary structure has the same impact on thermal stability, ignoring the possibility that specific regions or types of mutations may have different impacts on thermal stability. In reality, structural and functional differences between proteins may cause the same mutation to have different effects in different proteins. For example, a single amino acid change in the structural core of a protein may lead to significant stability loss; whereas mutations in non-critical areas might not significantly affect the protein's structure and function. Additionally, protein stability is also related to tertiary structure, and incorporating the tertiary structure of proteins into the model training could potentially improve the accuracy of predictions.\n",
    "\n",
    "\n",
    "\n",
    "### Are there sequence characteristics or limitations that would cause this analysis to fail? Can you think of conditions that would result in tremendously inaccurate stability calculations? Why or why not?\n",
    "\n",
    "When encountering amino acid mutations in special regions of proteins, these mutations may not follow the pattern of most mutations leading to ΔΔG changes, such as mutations on the protein surface having minor impacts on the overall structure and function of the protein. Moreover, specific amino acid mutations may have synergistic effects, and machine learning models built during the training process may not capture this synergistic effect well, leading to prediction failures.\n"
   ]
  },
  {
   "cell_type": "code",
   "execution_count": null,
   "id": "b4942a7b",
   "metadata": {},
   "outputs": [],
   "source": []
  }
 ],
 "metadata": {
  "kernelspec": {
   "display_name": "Python 3 (ipykernel)",
   "language": "python",
   "name": "python3"
  },
  "language_info": {
   "codemirror_mode": {
    "name": "ipython",
    "version": 3
   },
   "file_extension": ".py",
   "mimetype": "text/x-python",
   "name": "python",
   "nbconvert_exporter": "python",
   "pygments_lexer": "ipython3",
   "version": "3.11.5"
  }
 },
 "nbformat": 4,
 "nbformat_minor": 5
}
